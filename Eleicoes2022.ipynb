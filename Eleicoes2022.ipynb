{
  "cells": [
    {
      "cell_type": "code",
      "execution_count": 7,
      "metadata": {
        "id": "PJzJpjLxXnnd"
      },
      "outputs": [],
      "source": [
        "import pandas as pd\n",
        "import numpy as np\n",
        "from IPython.display import display, HTML\n",
        "import matplotlib.pyplot as plt\n",
        "import matplotlib.dates\n",
        "import urllib.request\n",
        "import time\n",
        "import datetime\n",
        "from google.colab import files\n",
        "from google.colab import data_table"
      ]
    },
    {
      "cell_type": "code",
      "execution_count": null,
      "metadata": {
        "id": "OaSOwhtewfdD",
        "colab": {
          "base_uri": "https://localhost:8080/",
          "height": 55
        },
        "outputId": "8b2463ee-9299-4ac3-ecfb-8bf40212d87d"
      },
      "outputs": [
        {
          "output_type": "display_data",
          "data": {
            "text/plain": [
              "<IPython.core.display.HTML object>"
            ],
            "text/html": [
              "\n",
              "     <input type=\"file\" id=\"files-917e93ce-ddc2-4613-bf78-7f82c61821de\" name=\"files[]\" multiple disabled\n",
              "        style=\"border:none\" />\n",
              "     <output id=\"result-917e93ce-ddc2-4613-bf78-7f82c61821de\">\n",
              "      Upload widget is only available when the cell has been executed in the\n",
              "      current browser session. Please rerun this cell to enable.\n",
              "      </output>\n",
              "      <script>// Copyright 2017 Google LLC\n",
              "//\n",
              "// Licensed under the Apache License, Version 2.0 (the \"License\");\n",
              "// you may not use this file except in compliance with the License.\n",
              "// You may obtain a copy of the License at\n",
              "//\n",
              "//      http://www.apache.org/licenses/LICENSE-2.0\n",
              "//\n",
              "// Unless required by applicable law or agreed to in writing, software\n",
              "// distributed under the License is distributed on an \"AS IS\" BASIS,\n",
              "// WITHOUT WARRANTIES OR CONDITIONS OF ANY KIND, either express or implied.\n",
              "// See the License for the specific language governing permissions and\n",
              "// limitations under the License.\n",
              "\n",
              "/**\n",
              " * @fileoverview Helpers for google.colab Python module.\n",
              " */\n",
              "(function(scope) {\n",
              "function span(text, styleAttributes = {}) {\n",
              "  const element = document.createElement('span');\n",
              "  element.textContent = text;\n",
              "  for (const key of Object.keys(styleAttributes)) {\n",
              "    element.style[key] = styleAttributes[key];\n",
              "  }\n",
              "  return element;\n",
              "}\n",
              "\n",
              "// Max number of bytes which will be uploaded at a time.\n",
              "const MAX_PAYLOAD_SIZE = 100 * 1024;\n",
              "\n",
              "function _uploadFiles(inputId, outputId) {\n",
              "  const steps = uploadFilesStep(inputId, outputId);\n",
              "  const outputElement = document.getElementById(outputId);\n",
              "  // Cache steps on the outputElement to make it available for the next call\n",
              "  // to uploadFilesContinue from Python.\n",
              "  outputElement.steps = steps;\n",
              "\n",
              "  return _uploadFilesContinue(outputId);\n",
              "}\n",
              "\n",
              "// This is roughly an async generator (not supported in the browser yet),\n",
              "// where there are multiple asynchronous steps and the Python side is going\n",
              "// to poll for completion of each step.\n",
              "// This uses a Promise to block the python side on completion of each step,\n",
              "// then passes the result of the previous step as the input to the next step.\n",
              "function _uploadFilesContinue(outputId) {\n",
              "  const outputElement = document.getElementById(outputId);\n",
              "  const steps = outputElement.steps;\n",
              "\n",
              "  const next = steps.next(outputElement.lastPromiseValue);\n",
              "  return Promise.resolve(next.value.promise).then((value) => {\n",
              "    // Cache the last promise value to make it available to the next\n",
              "    // step of the generator.\n",
              "    outputElement.lastPromiseValue = value;\n",
              "    return next.value.response;\n",
              "  });\n",
              "}\n",
              "\n",
              "/**\n",
              " * Generator function which is called between each async step of the upload\n",
              " * process.\n",
              " * @param {string} inputId Element ID of the input file picker element.\n",
              " * @param {string} outputId Element ID of the output display.\n",
              " * @return {!Iterable<!Object>} Iterable of next steps.\n",
              " */\n",
              "function* uploadFilesStep(inputId, outputId) {\n",
              "  const inputElement = document.getElementById(inputId);\n",
              "  inputElement.disabled = false;\n",
              "\n",
              "  const outputElement = document.getElementById(outputId);\n",
              "  outputElement.innerHTML = '';\n",
              "\n",
              "  const pickedPromise = new Promise((resolve) => {\n",
              "    inputElement.addEventListener('change', (e) => {\n",
              "      resolve(e.target.files);\n",
              "    });\n",
              "  });\n",
              "\n",
              "  const cancel = document.createElement('button');\n",
              "  inputElement.parentElement.appendChild(cancel);\n",
              "  cancel.textContent = 'Cancel upload';\n",
              "  const cancelPromise = new Promise((resolve) => {\n",
              "    cancel.onclick = () => {\n",
              "      resolve(null);\n",
              "    };\n",
              "  });\n",
              "\n",
              "  // Wait for the user to pick the files.\n",
              "  const files = yield {\n",
              "    promise: Promise.race([pickedPromise, cancelPromise]),\n",
              "    response: {\n",
              "      action: 'starting',\n",
              "    }\n",
              "  };\n",
              "\n",
              "  cancel.remove();\n",
              "\n",
              "  // Disable the input element since further picks are not allowed.\n",
              "  inputElement.disabled = true;\n",
              "\n",
              "  if (!files) {\n",
              "    return {\n",
              "      response: {\n",
              "        action: 'complete',\n",
              "      }\n",
              "    };\n",
              "  }\n",
              "\n",
              "  for (const file of files) {\n",
              "    const li = document.createElement('li');\n",
              "    li.append(span(file.name, {fontWeight: 'bold'}));\n",
              "    li.append(span(\n",
              "        `(${file.type || 'n/a'}) - ${file.size} bytes, ` +\n",
              "        `last modified: ${\n",
              "            file.lastModifiedDate ? file.lastModifiedDate.toLocaleDateString() :\n",
              "                                    'n/a'} - `));\n",
              "    const percent = span('0% done');\n",
              "    li.appendChild(percent);\n",
              "\n",
              "    outputElement.appendChild(li);\n",
              "\n",
              "    const fileDataPromise = new Promise((resolve) => {\n",
              "      const reader = new FileReader();\n",
              "      reader.onload = (e) => {\n",
              "        resolve(e.target.result);\n",
              "      };\n",
              "      reader.readAsArrayBuffer(file);\n",
              "    });\n",
              "    // Wait for the data to be ready.\n",
              "    let fileData = yield {\n",
              "      promise: fileDataPromise,\n",
              "      response: {\n",
              "        action: 'continue',\n",
              "      }\n",
              "    };\n",
              "\n",
              "    // Use a chunked sending to avoid message size limits. See b/62115660.\n",
              "    let position = 0;\n",
              "    do {\n",
              "      const length = Math.min(fileData.byteLength - position, MAX_PAYLOAD_SIZE);\n",
              "      const chunk = new Uint8Array(fileData, position, length);\n",
              "      position += length;\n",
              "\n",
              "      const base64 = btoa(String.fromCharCode.apply(null, chunk));\n",
              "      yield {\n",
              "        response: {\n",
              "          action: 'append',\n",
              "          file: file.name,\n",
              "          data: base64,\n",
              "        },\n",
              "      };\n",
              "\n",
              "      let percentDone = fileData.byteLength === 0 ?\n",
              "          100 :\n",
              "          Math.round((position / fileData.byteLength) * 100);\n",
              "      percent.textContent = `${percentDone}% done`;\n",
              "\n",
              "    } while (position < fileData.byteLength);\n",
              "  }\n",
              "\n",
              "  // All done.\n",
              "  yield {\n",
              "    response: {\n",
              "      action: 'complete',\n",
              "    }\n",
              "  };\n",
              "}\n",
              "\n",
              "scope.google = scope.google || {};\n",
              "scope.google.colab = scope.google.colab || {};\n",
              "scope.google.colab._files = {\n",
              "  _uploadFiles,\n",
              "  _uploadFilesContinue,\n",
              "};\n",
              "})(self);\n",
              "</script> "
            ]
          },
          "metadata": {}
        }
      ],
      "source": [
        "uploaded = files.upload()\n",
        "csv_file = []\n",
        "for fn in uploaded.keys():\n",
        "  print('User uploaded file \"{csv_file}\" with length {length} bytes'.format(csv_file=fn, length=len(uploaded[fn])))\n",
        "  csv_file.append(fn)"
      ]
    },
    {
      "cell_type": "code",
      "execution_count": 23,
      "metadata": {
        "id": "g98hEeexHnGU",
        "colab": {
          "base_uri": "https://localhost:8080/"
        },
        "outputId": "9a794c75-a0b6-4d17-8d18-45ce3275bd7c"
      },
      "outputs": [
        {
          "output_type": "stream",
          "name": "stdout",
          "text": [
            "Reading... dados.zip\n",
            "Reading... locais.csv\n"
          ]
        }
      ],
      "source": [
        "dados = pd.DataFrame()\n",
        "locais = pd.DataFrame()\n",
        "encode = 'windows-1252'\n",
        "encode = 'utf-8'\n",
        "for url in csv_file:\n",
        "    print(\"Reading...\",url)\n",
        "    if url == 'dados.zip':\n",
        "      encode = 'Latin1'\n",
        "    if url == 'locais.csv':\n",
        "      encode = 'utf-8'\n",
        "    r = pd.read_csv(url, \n",
        "                    sep=';', \n",
        "                    index_col=False,\n",
        "                    header=0,\n",
        "                    encoding=encode, \n",
        "                    decimal=\",\"\n",
        "                    )\n",
        "    if url == 'locais.csv':\n",
        "      locais = locais.append(r)\n",
        "    else:\n",
        "      dados = dados.append(r)"
      ]
    },
    {
      "cell_type": "code",
      "execution_count": null,
      "metadata": {
        "id": "qmcnX5NDasIQ"
      },
      "outputs": [],
      "source": [
        "display(locais.head(1))\n",
        "display(dados.head(1))"
      ]
    },
    {
      "cell_type": "code",
      "source": [
        "display(dados.nunique())\n",
        "display(dados.dtypes)"
      ],
      "metadata": {
        "id": "LVlicQ1Kz354"
      },
      "execution_count": null,
      "outputs": []
    },
    {
      "cell_type": "code",
      "source": [
        "ndf = pd.DataFrame()\n",
        "j = 0\n",
        "for i in locais.index:\n",
        "    secoes = locais['NÚMERO DAS SEÇÕES'][i]\n",
        "    for n in secoes.split(','):\n",
        "        ndf = ndf.append({'NR_SECAO':n, 'NR_ZONA':locais['ZONA'][i], 'NOM_LOCAL':locais['NOM_LOCAL'][i],'ENDEREÇO_LOCAL':locais['ENDEREÇO_LOCAL'][i], 'BAIRRO_LOCAL':locais['BAIRRO_LOCAL'][i]}, ignore_index=True)\n",
        "    \n",
        "ndf['NR_ZONA'] = ndf['NR_ZONA'].astype(int)\n",
        "ndf['NR_SECAO'] = ndf['NR_SECAO'].astype(int)"
      ],
      "metadata": {
        "id": "2gPYeH3HdxKW"
      },
      "execution_count": 25,
      "outputs": []
    },
    {
      "cell_type": "code",
      "source": [
        "display(ndf.head(1))\n",
        "display(ndf.dtypes)"
      ],
      "metadata": {
        "id": "7dvDY7NVsZ0Z"
      },
      "execution_count": null,
      "outputs": []
    },
    {
      "cell_type": "code",
      "source": [
        "# by merge\n",
        "newDados = ndf.merge(dados, on=[\"NR_SECAO\",\"NR_ZONA\"], how='outer')"
      ],
      "metadata": {
        "id": "oHwrghwEWy3e"
      },
      "execution_count": 26,
      "outputs": []
    },
    {
      "cell_type": "code",
      "source": [
        "#by merge\n",
        "#cargo = 'GOVERNADOR'\n",
        "#cargo = 'SENADOR'\n",
        "#cargo = 'DEPUTADO ESTADUAL'\n",
        "cargo = 'DEPUTADO FEDERAL'\n",
        "newDados = newDados.loc[newDados['DS_CARGO']==cargo].groupby(by=['NM_VOTAVEL','NR_ZONA','NR_SECAO'])"
      ],
      "metadata": {
        "id": "j35EMoUnXVTa",
        "colab": {
          "base_uri": "https://localhost:8080/",
          "height": 321
        },
        "outputId": "9f8d622e-df3d-4829-d977-92365e664936"
      },
      "execution_count": 28,
      "outputs": [
        {
          "output_type": "error",
          "ename": "AttributeError",
          "evalue": "ignored",
          "traceback": [
            "\u001b[0;31m---------------------------------------------------------------------------\u001b[0m",
            "\u001b[0;31mAttributeError\u001b[0m                            Traceback (most recent call last)",
            "\u001b[0;32m<ipython-input-28-113481aad672>\u001b[0m in \u001b[0;36m<module>\u001b[0;34m\u001b[0m\n\u001b[1;32m      4\u001b[0m \u001b[0;31m#cargo = 'DEPUTADO ESTADUAL'\u001b[0m\u001b[0;34m\u001b[0m\u001b[0;34m\u001b[0m\u001b[0;34m\u001b[0m\u001b[0m\n\u001b[1;32m      5\u001b[0m \u001b[0mcargo\u001b[0m \u001b[0;34m=\u001b[0m \u001b[0;34m'DEPUTADO FEDERAL'\u001b[0m\u001b[0;34m\u001b[0m\u001b[0;34m\u001b[0m\u001b[0m\n\u001b[0;32m----> 6\u001b[0;31m \u001b[0mnewDados\u001b[0m \u001b[0;34m=\u001b[0m \u001b[0mnewDados\u001b[0m\u001b[0;34m.\u001b[0m\u001b[0mloc\u001b[0m\u001b[0;34m[\u001b[0m\u001b[0mnewDados\u001b[0m\u001b[0;34m[\u001b[0m\u001b[0;34m'DS_CARGO'\u001b[0m\u001b[0;34m]\u001b[0m\u001b[0;34m==\u001b[0m\u001b[0mcargo\u001b[0m\u001b[0;34m]\u001b[0m\u001b[0;34m.\u001b[0m\u001b[0mgroupby\u001b[0m\u001b[0;34m(\u001b[0m\u001b[0mby\u001b[0m\u001b[0;34m=\u001b[0m\u001b[0;34m[\u001b[0m\u001b[0;34m'NM_VOTAVEL'\u001b[0m\u001b[0;34m,\u001b[0m\u001b[0;34m'NR_ZONA'\u001b[0m\u001b[0;34m,\u001b[0m\u001b[0;34m'NR_SECAO'\u001b[0m\u001b[0;34m]\u001b[0m\u001b[0;34m)\u001b[0m\u001b[0;34m\u001b[0m\u001b[0;34m\u001b[0m\u001b[0m\n\u001b[0m",
            "\u001b[0;32m/usr/local/lib/python3.7/dist-packages/pandas/core/groupby/groupby.py\u001b[0m in \u001b[0;36m__getattr__\u001b[0;34m(self, attr)\u001b[0m\n\u001b[1;32m    910\u001b[0m \u001b[0;34m\u001b[0m\u001b[0m\n\u001b[1;32m    911\u001b[0m         raise AttributeError(\n\u001b[0;32m--> 912\u001b[0;31m             \u001b[0;34mf\"'{type(self).__name__}' object has no attribute '{attr}'\"\u001b[0m\u001b[0;34m\u001b[0m\u001b[0;34m\u001b[0m\u001b[0m\n\u001b[0m\u001b[1;32m    913\u001b[0m         )\n\u001b[1;32m    914\u001b[0m \u001b[0;34m\u001b[0m\u001b[0m\n",
            "\u001b[0;31mAttributeError\u001b[0m: 'DataFrameGroupBy' object has no attribute 'loc'"
          ]
        }
      ]
    },
    {
      "cell_type": "code",
      "source": [
        "# by merge\n",
        "resultado = newDados['NM_VOTAVEL','NR_ZONA','NR_SECAO','QT_VOTOS','NOM_LOCAL','ENDEREÇO_LOCAL','BAIRRO_LOCAL']"
      ],
      "metadata": {
        "id": "-IDFi1GOXrB4",
        "colab": {
          "base_uri": "https://localhost:8080/"
        },
        "outputId": "d0d91164-3313-4ce9-d970-2bcc29066ea4"
      },
      "execution_count": null,
      "outputs": [
        {
          "output_type": "stream",
          "name": "stderr",
          "text": [
            "/usr/local/lib/python3.7/dist-packages/ipykernel_launcher.py:2: FutureWarning: Indexing with multiple keys (implicitly converted to a tuple of keys) will be deprecated, use a list instead.\n",
            "  \n"
          ]
        }
      ]
    },
    {
      "cell_type": "code",
      "source": [
        "# by merge\n",
        "display(newDados.head(1))"
      ],
      "metadata": {
        "id": "Z__nvslnXvOu"
      },
      "execution_count": null,
      "outputs": []
    },
    {
      "cell_type": "code",
      "source": [
        "# by merge\n",
        "display(resultado.head(1))"
      ],
      "metadata": {
        "id": "bn4ucs7TZ_0s",
        "colab": {
          "base_uri": "https://localhost:8080/",
          "height": 672
        },
        "outputId": "e8d10315-c216-4e16-e6d1-3adf0abe22eb"
      },
      "execution_count": null,
      "outputs": [
        {
          "output_type": "display_data",
          "data": {
            "text/plain": [
              "                                 NM_VOTAVEL  NR_ZONA  NR_SECAO  QT_VOTOS  \\\n",
              "13                    MARCIO CARLOS MARINHO      154         1         5   \n",
              "14                       LEANDRO ALVES DIAS      154         1         1   \n",
              "15     MARTA RODRIGUES SOUSA DE BRITO COSTA      154         1         1   \n",
              "16                              VOTO BRANCO      154         1        18   \n",
              "17                   CLAUDIO CAJADO SAMPAIO      154         1         1   \n",
              "...                                     ...      ...       ...       ...   \n",
              "43434     ALEXANDRE ALELUIA DANTAS DA COSTA      154       380         1   \n",
              "43435        JOSÉ CERQUEIRA DE SANTANA NETO      154       380        24   \n",
              "43436          ELISANGELA DOS SANTOS ARAUJO      154       380         1   \n",
              "43437                         PROGRESSISTAS      154       380         1   \n",
              "43438             Partido dos Trabalhadores      154       380         3   \n",
              "\n",
              "                                      NOM_LOCAL  \\\n",
              "13     CIEM PROFESSOR JOSELITO FALCÃO DE AMORIM   \n",
              "14     CIEM PROFESSOR JOSELITO FALCÃO DE AMORIM   \n",
              "15     CIEM PROFESSOR JOSELITO FALCÃO DE AMORIM   \n",
              "16     CIEM PROFESSOR JOSELITO FALCÃO DE AMORIM   \n",
              "17     CIEM PROFESSOR JOSELITO FALCÃO DE AMORIM   \n",
              "...                                         ...   \n",
              "43434                                       NaN   \n",
              "43435                                       NaN   \n",
              "43436                                       NaN   \n",
              "43437                                       NaN   \n",
              "43438                                       NaN   \n",
              "\n",
              "                                     ENDEREÇO_LOCAL BAIRRO_LOCAL  \n",
              "13     RUA CORONEL ÁLVARO SIMÕES, S/N - ZONA URBANA       CENTRO  \n",
              "14     RUA CORONEL ÁLVARO SIMÕES, S/N - ZONA URBANA       CENTRO  \n",
              "15     RUA CORONEL ÁLVARO SIMÕES, S/N - ZONA URBANA       CENTRO  \n",
              "16     RUA CORONEL ÁLVARO SIMÕES, S/N - ZONA URBANA       CENTRO  \n",
              "17     RUA CORONEL ÁLVARO SIMÕES, S/N - ZONA URBANA       CENTRO  \n",
              "...                                             ...          ...  \n",
              "43434                                           NaN          NaN  \n",
              "43435                                           NaN          NaN  \n",
              "43436                                           NaN          NaN  \n",
              "43437                                           NaN          NaN  \n",
              "43438                                           NaN          NaN  \n",
              "\n",
              "[28841 rows x 7 columns]"
            ],
            "text/html": [
              "\n",
              "  <div id=\"df-a350e4aa-af98-4b4d-ad77-1b473e9db9ae\">\n",
              "    <div class=\"colab-df-container\">\n",
              "      <div>\n",
              "<style scoped>\n",
              "    .dataframe tbody tr th:only-of-type {\n",
              "        vertical-align: middle;\n",
              "    }\n",
              "\n",
              "    .dataframe tbody tr th {\n",
              "        vertical-align: top;\n",
              "    }\n",
              "\n",
              "    .dataframe thead th {\n",
              "        text-align: right;\n",
              "    }\n",
              "</style>\n",
              "<table border=\"1\" class=\"dataframe\">\n",
              "  <thead>\n",
              "    <tr style=\"text-align: right;\">\n",
              "      <th></th>\n",
              "      <th>NM_VOTAVEL</th>\n",
              "      <th>NR_ZONA</th>\n",
              "      <th>NR_SECAO</th>\n",
              "      <th>QT_VOTOS</th>\n",
              "      <th>NOM_LOCAL</th>\n",
              "      <th>ENDEREÇO_LOCAL</th>\n",
              "      <th>BAIRRO_LOCAL</th>\n",
              "    </tr>\n",
              "  </thead>\n",
              "  <tbody>\n",
              "    <tr>\n",
              "      <th>13</th>\n",
              "      <td>MARCIO CARLOS MARINHO</td>\n",
              "      <td>154</td>\n",
              "      <td>1</td>\n",
              "      <td>5</td>\n",
              "      <td>CIEM PROFESSOR JOSELITO FALCÃO DE AMORIM</td>\n",
              "      <td>RUA CORONEL ÁLVARO SIMÕES, S/N - ZONA URBANA</td>\n",
              "      <td>CENTRO</td>\n",
              "    </tr>\n",
              "    <tr>\n",
              "      <th>14</th>\n",
              "      <td>LEANDRO ALVES DIAS</td>\n",
              "      <td>154</td>\n",
              "      <td>1</td>\n",
              "      <td>1</td>\n",
              "      <td>CIEM PROFESSOR JOSELITO FALCÃO DE AMORIM</td>\n",
              "      <td>RUA CORONEL ÁLVARO SIMÕES, S/N - ZONA URBANA</td>\n",
              "      <td>CENTRO</td>\n",
              "    </tr>\n",
              "    <tr>\n",
              "      <th>15</th>\n",
              "      <td>MARTA RODRIGUES SOUSA DE BRITO COSTA</td>\n",
              "      <td>154</td>\n",
              "      <td>1</td>\n",
              "      <td>1</td>\n",
              "      <td>CIEM PROFESSOR JOSELITO FALCÃO DE AMORIM</td>\n",
              "      <td>RUA CORONEL ÁLVARO SIMÕES, S/N - ZONA URBANA</td>\n",
              "      <td>CENTRO</td>\n",
              "    </tr>\n",
              "    <tr>\n",
              "      <th>16</th>\n",
              "      <td>VOTO BRANCO</td>\n",
              "      <td>154</td>\n",
              "      <td>1</td>\n",
              "      <td>18</td>\n",
              "      <td>CIEM PROFESSOR JOSELITO FALCÃO DE AMORIM</td>\n",
              "      <td>RUA CORONEL ÁLVARO SIMÕES, S/N - ZONA URBANA</td>\n",
              "      <td>CENTRO</td>\n",
              "    </tr>\n",
              "    <tr>\n",
              "      <th>17</th>\n",
              "      <td>CLAUDIO CAJADO SAMPAIO</td>\n",
              "      <td>154</td>\n",
              "      <td>1</td>\n",
              "      <td>1</td>\n",
              "      <td>CIEM PROFESSOR JOSELITO FALCÃO DE AMORIM</td>\n",
              "      <td>RUA CORONEL ÁLVARO SIMÕES, S/N - ZONA URBANA</td>\n",
              "      <td>CENTRO</td>\n",
              "    </tr>\n",
              "    <tr>\n",
              "      <th>...</th>\n",
              "      <td>...</td>\n",
              "      <td>...</td>\n",
              "      <td>...</td>\n",
              "      <td>...</td>\n",
              "      <td>...</td>\n",
              "      <td>...</td>\n",
              "      <td>...</td>\n",
              "    </tr>\n",
              "    <tr>\n",
              "      <th>43434</th>\n",
              "      <td>ALEXANDRE ALELUIA DANTAS DA COSTA</td>\n",
              "      <td>154</td>\n",
              "      <td>380</td>\n",
              "      <td>1</td>\n",
              "      <td>NaN</td>\n",
              "      <td>NaN</td>\n",
              "      <td>NaN</td>\n",
              "    </tr>\n",
              "    <tr>\n",
              "      <th>43435</th>\n",
              "      <td>JOSÉ CERQUEIRA DE SANTANA NETO</td>\n",
              "      <td>154</td>\n",
              "      <td>380</td>\n",
              "      <td>24</td>\n",
              "      <td>NaN</td>\n",
              "      <td>NaN</td>\n",
              "      <td>NaN</td>\n",
              "    </tr>\n",
              "    <tr>\n",
              "      <th>43436</th>\n",
              "      <td>ELISANGELA DOS SANTOS ARAUJO</td>\n",
              "      <td>154</td>\n",
              "      <td>380</td>\n",
              "      <td>1</td>\n",
              "      <td>NaN</td>\n",
              "      <td>NaN</td>\n",
              "      <td>NaN</td>\n",
              "    </tr>\n",
              "    <tr>\n",
              "      <th>43437</th>\n",
              "      <td>PROGRESSISTAS</td>\n",
              "      <td>154</td>\n",
              "      <td>380</td>\n",
              "      <td>1</td>\n",
              "      <td>NaN</td>\n",
              "      <td>NaN</td>\n",
              "      <td>NaN</td>\n",
              "    </tr>\n",
              "    <tr>\n",
              "      <th>43438</th>\n",
              "      <td>Partido dos Trabalhadores</td>\n",
              "      <td>154</td>\n",
              "      <td>380</td>\n",
              "      <td>3</td>\n",
              "      <td>NaN</td>\n",
              "      <td>NaN</td>\n",
              "      <td>NaN</td>\n",
              "    </tr>\n",
              "  </tbody>\n",
              "</table>\n",
              "<p>28841 rows × 7 columns</p>\n",
              "</div>\n",
              "      <button class=\"colab-df-convert\" onclick=\"convertToInteractive('df-a350e4aa-af98-4b4d-ad77-1b473e9db9ae')\"\n",
              "              title=\"Convert this dataframe to an interactive table.\"\n",
              "              style=\"display:none;\">\n",
              "        \n",
              "  <svg xmlns=\"http://www.w3.org/2000/svg\" height=\"24px\"viewBox=\"0 0 24 24\"\n",
              "       width=\"24px\">\n",
              "    <path d=\"M0 0h24v24H0V0z\" fill=\"none\"/>\n",
              "    <path d=\"M18.56 5.44l.94 2.06.94-2.06 2.06-.94-2.06-.94-.94-2.06-.94 2.06-2.06.94zm-11 1L8.5 8.5l.94-2.06 2.06-.94-2.06-.94L8.5 2.5l-.94 2.06-2.06.94zm10 10l.94 2.06.94-2.06 2.06-.94-2.06-.94-.94-2.06-.94 2.06-2.06.94z\"/><path d=\"M17.41 7.96l-1.37-1.37c-.4-.4-.92-.59-1.43-.59-.52 0-1.04.2-1.43.59L10.3 9.45l-7.72 7.72c-.78.78-.78 2.05 0 2.83L4 21.41c.39.39.9.59 1.41.59.51 0 1.02-.2 1.41-.59l7.78-7.78 2.81-2.81c.8-.78.8-2.07 0-2.86zM5.41 20L4 18.59l7.72-7.72 1.47 1.35L5.41 20z\"/>\n",
              "  </svg>\n",
              "      </button>\n",
              "      \n",
              "  <style>\n",
              "    .colab-df-container {\n",
              "      display:flex;\n",
              "      flex-wrap:wrap;\n",
              "      gap: 12px;\n",
              "    }\n",
              "\n",
              "    .colab-df-convert {\n",
              "      background-color: #E8F0FE;\n",
              "      border: none;\n",
              "      border-radius: 50%;\n",
              "      cursor: pointer;\n",
              "      display: none;\n",
              "      fill: #1967D2;\n",
              "      height: 32px;\n",
              "      padding: 0 0 0 0;\n",
              "      width: 32px;\n",
              "    }\n",
              "\n",
              "    .colab-df-convert:hover {\n",
              "      background-color: #E2EBFA;\n",
              "      box-shadow: 0px 1px 2px rgba(60, 64, 67, 0.3), 0px 1px 3px 1px rgba(60, 64, 67, 0.15);\n",
              "      fill: #174EA6;\n",
              "    }\n",
              "\n",
              "    [theme=dark] .colab-df-convert {\n",
              "      background-color: #3B4455;\n",
              "      fill: #D2E3FC;\n",
              "    }\n",
              "\n",
              "    [theme=dark] .colab-df-convert:hover {\n",
              "      background-color: #434B5C;\n",
              "      box-shadow: 0px 1px 3px 1px rgba(0, 0, 0, 0.15);\n",
              "      filter: drop-shadow(0px 1px 2px rgba(0, 0, 0, 0.3));\n",
              "      fill: #FFFFFF;\n",
              "    }\n",
              "  </style>\n",
              "\n",
              "      <script>\n",
              "        const buttonEl =\n",
              "          document.querySelector('#df-a350e4aa-af98-4b4d-ad77-1b473e9db9ae button.colab-df-convert');\n",
              "        buttonEl.style.display =\n",
              "          google.colab.kernel.accessAllowed ? 'block' : 'none';\n",
              "\n",
              "        async function convertToInteractive(key) {\n",
              "          const element = document.querySelector('#df-a350e4aa-af98-4b4d-ad77-1b473e9db9ae');\n",
              "          const dataTable =\n",
              "            await google.colab.kernel.invokeFunction('convertToInteractive',\n",
              "                                                     [key], {});\n",
              "          if (!dataTable) return;\n",
              "\n",
              "          const docLinkHtml = 'Like what you see? Visit the ' +\n",
              "            '<a target=\"_blank\" href=https://colab.research.google.com/notebooks/data_table.ipynb>data table notebook</a>'\n",
              "            + ' to learn more about interactive tables.';\n",
              "          element.innerHTML = '';\n",
              "          dataTable['output_type'] = 'display_data';\n",
              "          await google.colab.output.renderOutput(dataTable, element);\n",
              "          const docLink = document.createElement('div');\n",
              "          docLink.innerHTML = docLinkHtml;\n",
              "          element.appendChild(docLink);\n",
              "        }\n",
              "      </script>\n",
              "    </div>\n",
              "  </div>\n",
              "  "
            ]
          },
          "metadata": {}
        },
        {
          "output_type": "stream",
          "name": "stdout",
          "text": [
            "Warning: total number of rows (28841) exceeds max_rows (20000). Limiting to first (20000) rows.\n"
          ]
        }
      ]
    },
    {
      "cell_type": "code",
      "source": [
        "# by brute force\n",
        "dados['NOM_LOCAL'] = \"\"\n",
        "dados['ENDEREÇO_LOCAL'] = \"\"\n",
        "dados['BAIRRO_LOCAL'] = \"\"\n",
        "for j in dados.index:\n",
        "  for i in ndf.index:\n",
        "    if dados['NR_SECAO'][j] == ndf['NR_SECAO'][i] and dados['NR_ZONA'][j] == ndf['NR_ZONA'][i]:\n",
        "       dados['NOM_LOCAL'][j] = ndf['NOM_LOCAL'][i]\n",
        "       dados['ENDEREÇO_LOCAL'][j] = ndf['ENDEREÇO_LOCAL'][i]\n",
        "       dados['BAIRRO_LOCAL'][j] = ndf['BAIRRO_LOCAL'][i]"
      ],
      "metadata": {
        "id": "2juX4O5du4-0"
      },
      "execution_count": null,
      "outputs": []
    },
    {
      "cell_type": "code",
      "source": [
        "# by brute force\n",
        "dados = dados.loc[dados['DS_CARGO']=='GOVERNADOR'].groupby(by=['NM_VOTAVEL','NR_ZONA','NR_SECAO'])"
      ],
      "metadata": {
        "id": "DnLXI2ZdRDM-"
      },
      "execution_count": null,
      "outputs": []
    },
    {
      "cell_type": "code",
      "source": [
        "# by brute force\n",
        "display(dados.head(1))"
      ],
      "metadata": {
        "id": "J0JoGoV6RLh0"
      },
      "execution_count": null,
      "outputs": []
    },
    {
      "cell_type": "code",
      "source": [
        "# by brute force\n",
        "resultado = dados['NM_VOTAVEL','NR_ZONA','NR_SECAO','QT_VOTOS'].sum()"
      ],
      "metadata": {
        "id": "9KFlaucxZCJB"
      },
      "execution_count": null,
      "outputs": []
    },
    {
      "cell_type": "code",
      "source": [
        "# by brute force\n",
        "display(dados.head(1))"
      ],
      "metadata": {
        "id": "oEWYBI5DOpFv"
      },
      "execution_count": null,
      "outputs": []
    },
    {
      "cell_type": "code",
      "source": [
        "# salvar dados em arquivo CSV\n",
        "resultado.to_csv('filtragem_eleicoes2022.csv')"
      ],
      "metadata": {
        "id": "hJ5sE1xlULfg"
      },
      "execution_count": null,
      "outputs": []
    }
  ],
  "metadata": {
    "colab": {
      "collapsed_sections": [],
      "provenance": []
    },
    "kernelspec": {
      "display_name": "Python 3",
      "name": "python3"
    },
    "language_info": {
      "name": "python"
    }
  },
  "nbformat": 4,
  "nbformat_minor": 0
}